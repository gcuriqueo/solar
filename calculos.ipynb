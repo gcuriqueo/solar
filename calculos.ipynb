{
 "cells": [
  {
   "cell_type": "markdown",
   "metadata": {},
   "source": [
    "## Método de Klein-Theilacker"
   ]
  },
  {
   "cell_type": "markdown",
   "metadata": {},
   "source": [
    "<img src=\"image/img1.png\">"
   ]
  },
  {
   "cell_type": "code",
   "execution_count": 1,
   "metadata": {},
   "outputs": [],
   "source": [
    "import math as mt\n",
    "import sys\n",
    "from datetime import datetime\n",
    "def Aradianes(grados):\n",
    "    return mt.radians(grados)"
   ]
  },
  {
   "cell_type": "code",
   "execution_count": 2,
   "metadata": {},
   "outputs": [],
   "source": [
    "#Datos de entrada\n",
    "dt=datetime(2020, 5, 15)\n",
    "n = dt.timetuple().tm_yday\n",
    "latitud = -38.75\n",
    "HSC= 1366 #[\"W/m2\"]\n",
    "azimut= -180\n",
    "inclinacion= 38 \n",
    "radiacion = 1760 # [W/m2/dia]"
   ]
  },
  {
   "cell_type": "code",
   "execution_count": 3,
   "metadata": {},
   "outputs": [],
   "source": [
    "sigma = 23.45 * mt.sin( Aradianes((360/365)*(284+ n)) ) \n",
    "ans = -mt.tan(Aradianes(latitud))*mt.tan(Aradianes(sigma))\n",
    "ws = mt.acos(ans)\n",
    "ws = mt.degrees(ws) "
   ]
  },
  {
   "cell_type": "code",
   "execution_count": 4,
   "metadata": {},
   "outputs": [
    {
     "name": "stdout",
     "output_type": "stream",
     "text": [
      "  n    =  136\n",
      "sigma  =  19.03059093372261\n",
      "  ws   =  73.92880885421316\n"
     ]
    }
   ],
   "source": [
    "print(\"  n    = \",n)\n",
    "print(\"sigma  = \",sigma)\n",
    "print(\"  ws   = \",ws)"
   ]
  },
  {
   "cell_type": "markdown",
   "metadata": {},
   "source": [
    "<img src=\"image/img3.png\">"
   ]
  },
  {
   "cell_type": "code",
   "execution_count": 5,
   "metadata": {},
   "outputs": [],
   "source": [
    "A = mt.cos(Aradianes(inclinacion)) + ( mt.tan(Aradianes(latitud))*mt.cos(Aradianes(azimut))*mt.sin(Aradianes(inclinacion)))"
   ]
  },
  {
   "cell_type": "code",
   "execution_count": 6,
   "metadata": {},
   "outputs": [],
   "source": [
    "B = (mt.cos(Aradianes(ws))*mt.cos(Aradianes(inclinacion))) + (mt.tan(Aradianes(sigma))*mt.sin(Aradianes(inclinacion))*mt.cos(Aradianes(azimut)))"
   ]
  },
  {
   "cell_type": "code",
   "execution_count": 7,
   "metadata": {},
   "outputs": [],
   "source": [
    "C = (mt.sin(Aradianes(inclinacion))*mt.sin(Aradianes(azimut))) / (mt.cos(Aradianes(latitud)))"
   ]
  },
  {
   "cell_type": "code",
   "execution_count": 8,
   "metadata": {},
   "outputs": [
    {
     "name": "stdout",
     "output_type": "stream",
     "text": [
      "A = 1.2821313274608648\n",
      "B = 0.005789226516977386\n",
      "C = -9.667686323566837e-17\n"
     ]
    }
   ],
   "source": [
    "print(\"A =\",A)\n",
    "print(\"B =\",B)\n",
    "print(\"C =\",C)"
   ]
  },
  {
   "cell_type": "markdown",
   "metadata": {},
   "source": [
    "<img src=\"image/img4.png\">"
   ]
  },
  {
   "cell_type": "code",
   "execution_count": 9,
   "metadata": {},
   "outputs": [],
   "source": [
    "#Valor absoluto Wsr\n",
    "aux1= (A**2)-(B**2)+(C**2)\n",
    "if(aux1<0):\n",
    "    print(\"Se indetermina debido al ángulo del azimut !!\")    \n",
    "    sys.exit()\n",
    "else:\n",
    "    aux = ((A*B) + C*(mt.sqrt( (A**2)-(B**2)+(C**2))))/(A**2+C**2)\n",
    "    resultado = mt.acos(aux)\n",
    "    resultado = mt.degrees(resultado)"
   ]
  },
  {
   "cell_type": "code",
   "execution_count": 10,
   "metadata": {},
   "outputs": [],
   "source": [
    "wsr = abs(min(ws,resultado)) #Absoluto"
   ]
  },
  {
   "cell_type": "markdown",
   "metadata": {},
   "source": [
    "<img src=\"image/img5.png\">"
   ]
  },
  {
   "cell_type": "code",
   "execution_count": 11,
   "metadata": {},
   "outputs": [],
   "source": [
    "#Calcular Signo\n",
    "if( (A>0 and B>0) or (A>=B)):\n",
    "    wsR = -(1)*wsr\n",
    "else:\n",
    "    wsR = wsr"
   ]
  },
  {
   "cell_type": "markdown",
   "metadata": {},
   "source": [
    "<img src=\"image/img6.png\">"
   ]
  },
  {
   "cell_type": "code",
   "execution_count": 12,
   "metadata": {},
   "outputs": [],
   "source": [
    "#Valor absoluto Wss\n",
    "aux2= (A**2)-(B**2)+(C**2)\n",
    "if(aux2<0):\n",
    "    print(\"Se indetermina debido al ángulo de azimut !!\")    \n",
    "else:\n",
    "    aux = ((A*B) - C*(mt.sqrt( (A**2)-(B**2)+(C**2))))/(A**2+C**2)\n",
    "    resultado2 = mt.acos(aux)\n",
    "    resultado2 = mt.degrees(resultado2)"
   ]
  },
  {
   "cell_type": "code",
   "execution_count": 13,
   "metadata": {},
   "outputs": [],
   "source": [
    "wss = abs(min(ws,resultado2))"
   ]
  },
  {
   "cell_type": "markdown",
   "metadata": {},
   "source": [
    "<img src=\"image/img7.png\">"
   ]
  },
  {
   "cell_type": "code",
   "execution_count": 14,
   "metadata": {},
   "outputs": [],
   "source": [
    "#Calcular Signo\n",
    "if( (A>0 and B>0) or (A>=B)):\n",
    "    wsS = wss\n",
    "else:\n",
    "    wsS = -(1)*wss    "
   ]
  },
  {
   "cell_type": "code",
   "execution_count": 15,
   "metadata": {},
   "outputs": [
    {
     "name": "stdout",
     "output_type": "stream",
     "text": [
      "|wsr| = 73.9288\n",
      "|wss| = 73.9288\n",
      "\n",
      " wsR = -73.9288\n",
      " wsS = 73.9288\n"
     ]
    }
   ],
   "source": [
    "wsr = round(wsr,4)\n",
    "wss = round(wss,4)\n",
    "wsR = round(wsR,4)\n",
    "wsS = round(wsS,4)\n",
    "\n",
    "print(\"|wsr| =\",wsr)\n",
    "print(\"|wss| =\",wss)\n",
    "print(\"\")\n",
    "\n",
    "print(\" wsR =\",wsR)\n",
    "print(\" wsS =\",wsS)"
   ]
  },
  {
   "cell_type": "markdown",
   "metadata": {},
   "source": [
    "<img src=\"image/img8.png\">"
   ]
  },
  {
   "cell_type": "code",
   "execution_count": 16,
   "metadata": {},
   "outputs": [
    {
     "name": "stdout",
     "output_type": "stream",
     "text": [
      "a = 0.5297\n",
      "b = 0.5462\n",
      "d = 0.6037\n"
     ]
    }
   ],
   "source": [
    "a = 0.409 + 0.5016*mt.sin( Aradianes(ws-60) )\n",
    "b = 0.6609 - 0.4767*mt.sin( Aradianes(ws-60) )\n",
    "d = (mt.sin(Aradianes(ws))) - ((mt.pi*ws/180)*mt.cos(Aradianes(ws)))\n",
    "\n",
    "a = round(a,4)\n",
    "b = round(b,4)\n",
    "d = round(d,4)\n",
    "print(\"a =\",a)\n",
    "print(\"b =\",b)\n",
    "print(\"d =\",d)\n"
   ]
  },
  {
   "cell_type": "markdown",
   "metadata": {},
   "source": [
    "<img src=\"image/img9.png\">\n",
    "<img src=\"image/img10.png\">"
   ]
  },
  {
   "cell_type": "code",
   "execution_count": 17,
   "metadata": {},
   "outputs": [],
   "source": [
    "Ho =  (24*HSC/mt.pi)*(1+0.033*(mt.cos(Aradianes(360*n/365))))*( (mt.cos(Aradianes(latitud))*mt.cos(Aradianes(sigma))*mt.sin(Aradianes(ws))) + ((ws*2*mt.pi/360)*mt.sin(Aradianes(latitud))*mt.sin(Aradianes(sigma))))\n",
    "Kt= radiacion/Ho\n",
    "Kt = round(Kt,4)"
   ]
  },
  {
   "cell_type": "code",
   "execution_count": 18,
   "metadata": {},
   "outputs": [
    {
     "name": "stdout",
     "output_type": "stream",
     "text": [
      "Ho = 4538.089816927326\n",
      "Kt = 0.3878\n"
     ]
    }
   ],
   "source": [
    "print(\"Ho =\",Ho)\n",
    "print(\"Kt =\",Kt)"
   ]
  },
  {
   "cell_type": "markdown",
   "metadata": {},
   "source": [
    "<img src=\"image/img11.png\">"
   ]
  },
  {
   "cell_type": "code",
   "execution_count": 19,
   "metadata": {},
   "outputs": [
    {
     "name": "stdout",
     "output_type": "stream",
     "text": [
      "Hd / H = 0.4789\n"
     ]
    }
   ],
   "source": [
    "HdH = 1.390 - (4.027)*Kt + (5.531*(Kt**2)) - (3.108*(Kt**3))\n",
    "HdH = round(HdH,4)\n",
    "print(\"Hd / H =\",HdH)"
   ]
  },
  {
   "cell_type": "code",
   "execution_count": 20,
   "metadata": {},
   "outputs": [
    {
     "name": "stdout",
     "output_type": "stream",
     "text": [
      "a' = 0.0508\n"
     ]
    }
   ],
   "source": [
    "aPrima = a - HdH\n",
    "aPrima = round(aPrima,4)\n",
    "print(\"a' =\",aPrima)"
   ]
  },
  {
   "cell_type": "markdown",
   "metadata": {},
   "source": [
    "<img src=\"image/img12.png\">"
   ]
  },
  {
   "cell_type": "code",
   "execution_count": 21,
   "metadata": {},
   "outputs": [],
   "source": [
    "def G(w1,w2):\n",
    "    return (1/(2*d))*( (((b*A/2)-(aPrima*B))*(w1-w2)*(mt.pi/180)) + (((aPrima*A)-(b*B))*((mt.sin(Aradianes(w1)))-(mt.sin(Aradianes(w2))))) - ((aPrima*C)*((mt.cos(Aradianes(w1)))-(mt.cos(Aradianes(w2)))))   + ( (b*A/2)*( (mt.sin(Aradianes(w1))*mt.cos(Aradianes(w1))) - ((mt.sin(Aradianes(w2)))*mt.cos(Aradianes(w2)))  )) +  ( (b*C/2)*(  (mt.sin(Aradianes(w1))**2) - (mt.sin(Aradianes(w2))**2) )) )"
   ]
  },
  {
   "cell_type": "code",
   "execution_count": 22,
   "metadata": {},
   "outputs": [
    {
     "name": "stdout",
     "output_type": "stream",
     "text": [
      "G(wsS,wsR) = 1.0006827156070504\n",
      "G(wsS,-ws) = 1.0006827246340895\n",
      "G(ws,wsR)  = 1.0006827246340895\n"
     ]
    }
   ],
   "source": [
    "temp1 = G(wsS,wsR)\n",
    "temp2 = G(wsS,(-1*ws))\n",
    "temp3 = G(ws,wsR)\n",
    "\n",
    "print(\"G(wsS,wsR) =\",temp1)\n",
    "print(\"G(wsS,-ws) =\",temp2)\n",
    "print(\"G(ws,wsR)  =\",temp3)"
   ]
  },
  {
   "cell_type": "markdown",
   "metadata": {},
   "source": [
    "<img src=\"image/img15.png\">"
   ]
  },
  {
   "cell_type": "code",
   "execution_count": 23,
   "metadata": {},
   "outputs": [],
   "source": [
    "#Calcular D\n",
    "if(wsS>=wsR ):\n",
    "    D=max(0,temp1)\n",
    "else:\n",
    "    D=max(0,temp2+temp3)    "
   ]
  },
  {
   "cell_type": "code",
   "execution_count": 24,
   "metadata": {},
   "outputs": [
    {
     "name": "stdout",
     "output_type": "stream",
     "text": [
      "D = 1.0006827156070504\n"
     ]
    }
   ],
   "source": [
    "print(\"D =\",D)"
   ]
  },
  {
   "cell_type": "markdown",
   "metadata": {},
   "source": [
    "<img src=\"image/img13.png\">"
   ]
  },
  {
   "cell_type": "code",
   "execution_count": 25,
   "metadata": {},
   "outputs": [
    {
     "name": "stdout",
     "output_type": "stream",
     "text": [
      "R = 1.4500208151975076\n"
     ]
    }
   ],
   "source": [
    "ro = 0.2\n",
    "R = D + (HdH*(((1+mt.cos(Aradianes(inclinacion)))/2))) + (ro*((1-mt.cos(Aradianes(inclinacion)))/2))\n",
    "print(\"R =\",R)"
   ]
  },
  {
   "cell_type": "markdown",
   "metadata": {},
   "source": [
    "<img src=\"image/img14.png\">"
   ]
  },
  {
   "cell_type": "code",
   "execution_count": 26,
   "metadata": {},
   "outputs": [
    {
     "name": "stdout",
     "output_type": "stream",
     "text": [
      "Ht = 2552.0366347476133\n"
     ]
    }
   ],
   "source": [
    "Ht = R*radiacion\n",
    "print(\"Ht =\",Ht)"
   ]
  }
 ],
 "metadata": {
  "kernelspec": {
   "display_name": "Python 3",
   "language": "python",
   "name": "python3"
  },
  "language_info": {
   "codemirror_mode": {
    "name": "ipython",
    "version": 3
   },
   "file_extension": ".py",
   "mimetype": "text/x-python",
   "name": "python",
   "nbconvert_exporter": "python",
   "pygments_lexer": "ipython3",
   "version": "3.7.6"
  }
 },
 "nbformat": 4,
 "nbformat_minor": 4
}
